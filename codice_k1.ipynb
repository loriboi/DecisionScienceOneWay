{
  "nbformat": 4,
  "nbformat_minor": 0,
  "metadata": {
    "colab": {
      "provenance": [],
      "authorship_tag": "ABX9TyO3K6CZjb0NVyC6uttpbcqs",
      "include_colab_link": true
    },
    "kernelspec": {
      "name": "python3",
      "display_name": "Python 3"
    },
    "language_info": {
      "name": "python"
    }
  },
  "cells": [
    {
      "cell_type": "markdown",
      "metadata": {
        "id": "view-in-github",
        "colab_type": "text"
      },
      "source": [
        "<a href=\"https://colab.research.google.com/github/loriboi/DecisionScienceOneWay/blob/main/codice_k1.ipynb\" target=\"_parent\"><img src=\"https://colab.research.google.com/assets/colab-badge.svg\" alt=\"Open In Colab\"/></a>"
      ]
    },
    {
      "cell_type": "code",
      "execution_count": 60,
      "metadata": {
        "colab": {
          "base_uri": "https://localhost:8080/"
        },
        "id": "TaPdhsd_KcR9",
        "outputId": "a1e1de39-a16c-438c-f2f3-6147c6013c3d"
      },
      "outputs": [
        {
          "output_type": "stream",
          "name": "stdout",
          "text": [
            "Looking in indexes: https://pypi.org/simple, https://us-python.pkg.dev/colab-wheels/public/simple/\n",
            "Requirement already satisfied: docplex in /usr/local/lib/python3.10/dist-packages (2.25.236)\n",
            "Requirement already satisfied: six in /usr/local/lib/python3.10/dist-packages (from docplex) (1.16.0)\n",
            "Looking in indexes: https://pypi.org/simple, https://us-python.pkg.dev/colab-wheels/public/simple/\n",
            "Requirement already satisfied: cplex in /usr/local/lib/python3.10/dist-packages (22.1.1.0)\n"
          ]
        }
      ],
      "source": [
        "!pip install docplex\n",
        "!pip install cplex"
      ]
    },
    {
      "cell_type": "code",
      "source": [
        "#inizializzazione degli elementi\n",
        "\n",
        "from docplex.mp.model import Model\n",
        "import itertools\n",
        "import numpy as np\n",
        "import matplotlib.pyplot as plt\n",
        "from random import *\n",
        "import math\n",
        "\n",
        "nodi = [0,1,2,3] # nodi: stazioni + deposito\n",
        "periodo = [0,1,2,3]\n",
        "nodi_t = [(i,t) for i in nodi for t in periodo]\n",
        "\n",
        "archi = [(i, j) for i in nodi for j in nodi if(i!=j) ] # tutti gli archi\n",
        "archi_w = [(i, j, t, t+1) for i in nodi for j in nodi if(i==j) for t in periodo] # archi in waiting(tutti i nodi sono uguali)\n",
        "archi_m = [(i, j, t, t+1) for i in nodi for j in nodi if(i!=j) for t in periodo] # archi in motorcycle driving(tutti)\n",
        "#da aggiungere dopo il deposito\n",
        "archi_c = [(i, j, t,t+1) for i in nodi for j in nodi if(i!=j) for t in periodo] # archi in car driving(tutti tranne quelli che passano per il deposito)\n",
        "\n",
        "c_m=0.8 #costo di ogni arco in monopattino\n",
        "c_c=1.2 #costo di ogni arco in macchina\n",
        "c_d=3\n",
        "c_s=3 #costo per quando non può essere spostata una macchina in una stazione i per sovrapparcheggiamento\n",
        "\n",
        "x_a_inizio=[] #numero di macchine presenti nel parcheggio i nel periodo t-1\n",
        "for i in nodi:\n",
        "  x=randint(1,8)\n",
        "  x_a_inizio.append(x)\n",
        "\n",
        "dimensione_s_i_t=len(nodi)*len(periodo)\n",
        "s_i = [(i,t) for i in nodi for t in periodo] #richiesta di tutti i nodi\n",
        "d_i = [(i,t) for i in nodi for t in periodo] #offerta di tutti i nodi\n",
        "\n",
        "\n",
        "s_i_t=[]\n",
        "for j in s_i:\n",
        "  x=randint(1,6)\n",
        "  s_i_t.append(x)\n",
        "\n",
        "\n",
        "d_i_t=[]\n",
        "for j in d_i:\n",
        "  x=randint(1,6)\n",
        "  d_i_t.append(x)\n",
        "\n",
        "#per ora tutte impostate a 6\n",
        "p_i=6 # numero massimo di parcheggi nella stazione i\n"
      ],
      "metadata": {
        "id": "vl66J8xLKi82"
      },
      "execution_count": 61,
      "outputs": []
    },
    {
      "cell_type": "code",
      "source": [
        "d_i_t"
      ],
      "metadata": {
        "colab": {
          "base_uri": "https://localhost:8080/"
        },
        "id": "sh3EmgoqWMhp",
        "outputId": "67712db4-fcca-4497-e2af-2f4a1427c281"
      },
      "execution_count": 62,
      "outputs": [
        {
          "output_type": "execute_result",
          "data": {
            "text/plain": [
              "[3, 4, 3, 2, 6, 5, 1, 4, 4, 2, 3, 3, 6, 1, 5, 4]"
            ]
          },
          "metadata": {},
          "execution_count": 62
        }
      ]
    },
    {
      "cell_type": "code",
      "source": [
        "s_i_t"
      ],
      "metadata": {
        "colab": {
          "base_uri": "https://localhost:8080/"
        },
        "id": "AQpWeG-xWP7c",
        "outputId": "e491f261-02d1-451f-c0cb-b1aacfd0257d"
      },
      "execution_count": 63,
      "outputs": [
        {
          "output_type": "execute_result",
          "data": {
            "text/plain": [
              "[3, 4, 6, 1, 1, 6, 1, 4, 3, 5, 4, 6, 4, 2, 2, 1]"
            ]
          },
          "metadata": {},
          "execution_count": 63
        }
      ]
    },
    {
      "cell_type": "code",
      "source": [
        "#variabili decisionali\n",
        "\n",
        "model = Model(name='Esercizio')\n",
        "\n",
        "w = model.binary_var_dict(archi_w, name='w') #1 waiting\n",
        "m = model.binary_var_dict(archi_m, name='m') #1 monopattino\n",
        "c = model.binary_var_dict(archi_c,name='c') #1 macchina\n",
        "x_a = model.integer_var_dict(nodi_t, name='x_a') #numero di macchine che possono essere prese dalla stazione i\n",
        "x_d = model.integer_var_dict(nodi_t, name='x_d') #numero di macchine che non possono essere prenotate perchè devono essere spostate dal gestore\n",
        "x_s = model.integer_var_dict(nodi_t, name='x_s') #numero di macchine che non possono essere riportate alla stazione i per il sovrannumero di macchine in quella stazione i\n"
      ],
      "metadata": {
        "id": "pOVCDfBYKpo5"
      },
      "execution_count": 64,
      "outputs": []
    },
    {
      "cell_type": "code",
      "source": [
        "\n",
        "#I VINCOLO DOPO LE VARIABILI DECISIONALI\n",
        "#vincolo per controllare che nel primo periodo il gestore k può o aspettare o muoversi   \n",
        "\n",
        "model.add_constraint(sum(w[(i,i,0,1)] for i in nodi for j in nodi if ((i,i,0,1) in w))\n",
        "+sum(m[(i,j,0,1)] for i in nodi for j in nodi if (i!=j) and ((i,j,0,1) in m))\n",
        "+sum(c[(i,j,0,1)] for i in nodi for j in nodi if (i!=j) and ((i,j,0,1) in c))==1)\n",
        "\n",
        "#II VINCOLO DOPO LE VARIABILI DECISIONALI\n",
        "\n",
        "for t in periodo:\n",
        "    for j in nodi:\n",
        "      if(t>0 and t<4):\n",
        "        model.add_constraint((w[(i,i,t-1,t)]+sum(m[(i,j,t-1,t)] for i in nodi if((i,j,t-1,t) in m) and (i!=j))\n",
        "    +sum(c[(i,j,t-1,t)] for i in nodi if((i,j,t-1,t) in c) and (i!=j)))==\n",
        "     (w[(i,i,t,t+1)]+sum(m[(j,i,t,t+1)] for i in nodi if((j,i,t,t+1) in m) and (i!=j))\n",
        "         +sum(c[(j,i,t,t+1)] for i in nodi if((j,i,t,t+1) in c)and (i!=j))))\n",
        "\n",
        "#III VINCOLO DOPO LE VARIABILI DECISIONALI\n",
        "#spostamento dal penultimo all'ultimo\n",
        "model.add_constraint(sum(w[(i,i,periodo[-2]-1,periodo[-1]-1)] for i in nodi for j in nodi if ((i,i,periodo[-2]-1,periodo[-1]-1) in w))\n",
        "+sum(m[(i,j,periodo[-2]-1,periodo[-1]-1)] for i in nodi for j in nodi if (i!=j) and ((i,j,periodo[-2]-1,periodo[-1]-1) in m))\n",
        "+sum(c[(i,j,periodo[-2]-1,periodo[-1]-1)] for i in nodi for j in nodi if (i!=j) and ((i,j,periodo[-2]-1,periodo[-1]-1) in c))==1)\n",
        "\n",
        "#IV VINCOLO \n",
        "count=0\n",
        "for t in periodo:\n",
        "    for i in nodi:\n",
        "      if (t!=0):\n",
        "        count=count+1\n",
        "        x_a[(i,t)]=x_a[(i,t-1)]+sum(c[(j,i,t-1,t)] for j in nodi if(i!=j)and (j,i,t-1,t) in c)\n",
        "        -sum(c[(i,j,t,t+1)] for j in nodi if(i!=j) and (i,j,t,t+1) in c)\n",
        "        -x_s[(i,t)]+s_i_t[count-1]-d_i_t[count-1]\n",
        "\n",
        "#V VINCOLO è basato sulla manutenzione delle auto\n",
        "\n",
        "#VI VINCOLO\n",
        "count=0\n",
        "#vincolo dove per ogni stazione la somma del numero di macchine \n",
        "for t in periodo:\n",
        "  for i in nodi:\n",
        "      if (t<3):\n",
        "        count=count+1\n",
        "        model.add_constraint(x_a[(i,t)]+s_i_t[count]-x_s[(i,t+1)] <= p_i)\n",
        "\n",
        "#VII VINCOLO\n",
        "count=0\n",
        "#vincolo dove per ogni stazione la somma del numero di macchine \n",
        "for t in periodo:\n",
        "  for i in nodi:\n",
        "    if(t<3):\n",
        "      count=count+1\n",
        "      model.add_constraint(x_s[(i,t)] <= s_i_t[count])\n",
        "\n",
        "#VIII VINCOLO\n",
        "#vincolo dove per ogni stazione la somma del numero di macchine \n",
        "count=0\n",
        "for t in periodo:\n",
        "  for i in nodi:\n",
        "    if(t<3):\n",
        "      count=count+1\n",
        "      model.add_constraint(x_d[(i,t)] <= d_i_t[count])\n",
        "\n",
        "\n",
        "#obiettivo-seguendo il paper\n",
        "model.minimize(sum(c_m*m[(i,j,t,t+1)]+c_c*c[(i,j,t,t+1)] for t in periodo for i in nodi for j in nodi if (i!=j) and ((i,j,t,t+1) in m))\n",
        "+c_d*sum(x_d[(i,t)] for t in periodo for i in nodi)+c_s*sum(x_s[(i,t)] for t in periodo for i in nodi))\n",
        "\n",
        "soluzione=model.solve(log_output=\"true\")\n",
        "print(model.solve_details.status)"
      ],
      "metadata": {
        "colab": {
          "base_uri": "https://localhost:8080/"
        },
        "id": "18wNg7CqKtWY",
        "outputId": "16d48514-46e4-43aa-8f9b-4efe0dfbd1d0"
      },
      "execution_count": 65,
      "outputs": [
        {
          "output_type": "stream",
          "name": "stdout",
          "text": [
            "Version identifier: 22.1.1.0 | 2023-02-11 | 22d6266e5\n",
            "CPXPARAM_Read_DataCheck                          1\n",
            "Tried aggregator 6 times.\n",
            "MIP Presolve eliminated 36 rows and 146 columns.\n",
            "MIP Presolve modified 2 coefficients.\n",
            "Aggregator did 14 substitutions.\n",
            "All rows and columns eliminated.\n",
            "Presolve time = 0.01 sec. (0.48 ticks)\n",
            "\n",
            "Root node processing (before b&c):\n",
            "  Real time             =    0.01 sec. (0.50 ticks)\n",
            "Parallel b&c, 2 threads:\n",
            "  Real time             =    0.00 sec. (0.00 ticks)\n",
            "  Sync time (average)   =    0.00 sec.\n",
            "  Wait time (average)   =    0.00 sec.\n",
            "                          ------------\n",
            "Total (root+branch&cut) =    0.01 sec. (0.50 ticks)\n",
            "integer optimal solution\n"
          ]
        }
      ]
    },
    {
      "cell_type": "code",
      "source": [
        "for t in periodo:\n",
        "  print(f\"\\n\\nPERIODO {t+1}\\n\")\n",
        "  for i in nodi:\n",
        "    for j in nodi:\n",
        "      if(i!=j):\n",
        "        if(soluzione.get_value(m[(i,j,t,t+1)])!=0):\n",
        "          print(f\"monopattino:[{m[(i,j,t,t+1)]}] = {soluzione.get_value(m[(i,j,t,t+1)])}\")\n",
        "  for i in nodi:\n",
        "    for j in nodi:\n",
        "      if(i!=j):\n",
        "        if(soluzione.get_value(c[(i,j,t,t+1)])!=0):\n",
        "          print(f\"car:[{c[(i,j,t,t+1)]}] = {soluzione.get_value(c[(i,j,t,t+1)])}\")\n",
        "  for i in nodi:\n",
        "        if(soluzione.get_value(w[(i,i,t,t+1)])!=0):\n",
        "          print(f\"waiting:[{w[(i,j,t,t+1)]}] = {soluzione.get_value(w[(i,i,t,t+1)])}\")\n"
      ],
      "metadata": {
        "colab": {
          "base_uri": "https://localhost:8080/"
        },
        "id": "AlGFlD07K151",
        "outputId": "c00462b2-89fb-41ff-f66c-a37cb07dae82"
      },
      "execution_count": 66,
      "outputs": [
        {
          "output_type": "stream",
          "name": "stdout",
          "text": [
            "\n",
            "\n",
            "PERIODO 1\n",
            "\n",
            "monopattino:[m_3_0_0_1] = 1.0\n",
            "\n",
            "\n",
            "PERIODO 2\n",
            "\n",
            "monopattino:[m_0_2_1_2] = 1.0\n",
            "\n",
            "\n",
            "PERIODO 3\n",
            "\n",
            "monopattino:[m_2_0_2_3] = 1.0\n",
            "\n",
            "\n",
            "PERIODO 4\n",
            "\n",
            "monopattino:[m_0_1_3_4] = 1.0\n"
          ]
        }
      ]
    }
  ]
}